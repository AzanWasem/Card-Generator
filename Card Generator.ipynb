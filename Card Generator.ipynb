{
 "cells": [
  {
   "cell_type": "code",
   "execution_count": 1,
   "metadata": {},
   "outputs": [],
   "source": [
    "import random\n",
    "\n",
    "def generate_card_data(num_cards):\n",
    "    card_data = []\n",
    "    for _ in range(num_cards):\n",
    "        # Generate a random 16-digit card number (Visa starts with 4, MasterCard with 5, etc.)\n",
    "        card_number = f\"{random.choice(['4', '5', '6'])}\" + ''.join(random.choices('0123456789', k=15))\n",
    "        \n",
    "        # Generate a random expiry month (01-12)\n",
    "        expiry_month = str(random.randint(1, 12)).zfill(2)\n",
    "        \n",
    "        # Generate a random expiry year (current year + 1 to 10 years)\n",
    "        current_year = 2024\n",
    "        expiry_year = str(random.randint(current_year, current_year + 10))\n",
    "        \n",
    "        # Generate a random CVV (3-digit)\n",
    "        cvv = str(random.randint(100, 999))\n",
    "        \n",
    "        # Combine the generated data into the specified format\n",
    "        card_data.append(f\"{card_number}|{expiry_month}|{expiry_year}|{cvv}\")\n",
    "    \n",
    "    return card_data\n",
    "\n",
    "# Generate 10000 card entries credit azanwasim\n",
    "cards = generate_card_data(10000)\n",
    "\n",
    "# Print the card data\n",
    "for card in cards:\n",
    "    print(card)\n",
    "\n"
   ]
  },
  {
   "cell_type": "code",
   "execution_count": null,
   "metadata": {},
   "outputs": [],
   "source": []
  }
 ],
 "metadata": {
  "kernelspec": {
   "display_name": "Python 3",
   "language": "python",
   "name": "python3"
  },
  "language_info": {
   "codemirror_mode": {
    "name": "ipython",
    "version": 3
   },
   "file_extension": ".py",
   "mimetype": "text/x-python",
   "name": "python",
   "nbconvert_exporter": "python",
   "pygments_lexer": "ipython3",
   "version": "3.13.0"
  }
 },
 "nbformat": 4,
 "nbformat_minor": 2
}
